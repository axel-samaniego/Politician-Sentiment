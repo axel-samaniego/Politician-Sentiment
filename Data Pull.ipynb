{
 "cells": [
  {
   "cell_type": "code",
   "execution_count": 1,
   "metadata": {
    "scrolled": true
   },
   "outputs": [
    {
     "name": "stdout",
     "output_type": "stream",
     "text": [
      "Requirement already satisfied: python-twitter in c:\\users\\axel\\anaconda3\\lib\\site-packages (3.5)\n",
      "Requirement already satisfied: requests in c:\\users\\axel\\anaconda3\\lib\\site-packages (from python-twitter) (2.25.1)\n",
      "Requirement already satisfied: requests-oauthlib in c:\\users\\axel\\anaconda3\\lib\\site-packages (from python-twitter) (1.3.0)\n",
      "Requirement already satisfied: future in c:\\users\\axel\\anaconda3\\lib\\site-packages (from python-twitter) (0.18.2)\n",
      "Requirement already satisfied: certifi>=2017.4.17 in c:\\users\\axel\\anaconda3\\lib\\site-packages (from requests->python-twitter) (2019.11.28)\n",
      "Requirement already satisfied: urllib3<1.27,>=1.21.1 in c:\\users\\axel\\anaconda3\\lib\\site-packages (from requests->python-twitter) (1.25.8)\n",
      "Requirement already satisfied: idna<3,>=2.5 in c:\\users\\axel\\anaconda3\\lib\\site-packages (from requests->python-twitter) (2.8)\n",
      "Requirement already satisfied: chardet<5,>=3.0.2 in c:\\users\\axel\\anaconda3\\lib\\site-packages (from requests->python-twitter) (3.0.4)\n",
      "Requirement already satisfied: oauthlib>=3.0.0 in c:\\users\\axel\\anaconda3\\lib\\site-packages (from requests-oauthlib->python-twitter) (3.1.0)\n"
     ]
    }
   ],
   "source": [
    "!pip install python-twitter"
   ]
  },
  {
   "cell_type": "code",
   "execution_count": 2,
   "metadata": {
    "scrolled": true
   },
   "outputs": [],
   "source": [
    "import pandas as pd\n",
    "import twitter"
   ]
  },
  {
   "cell_type": "code",
   "execution_count": 3,
   "metadata": {},
   "outputs": [],
   "source": [
    "def tweets_to_df(screens):\n",
    "    df = pd.DataFrame() #initialize dataframe \n",
    "    i = 0\n",
    "    for screen in screens:\n",
    "        print(screen)   #Keep track of current user to be able to debug\n",
    "        tweets = api.GetUserTimeline(screen_name=screen,include_rts=False,count=200) #Get tweets from timeline up to 200\n",
    "        name = api.GetUser(screen_name=screen).name   # Get user's name\n",
    "        for tweet in tweets:\n",
    "            df.loc[i,'User'] = name  # Save Name\n",
    "            df.loc[i,'Tweet'] = tweet.text  # Save tweet\n",
    "            i+=1 \n",
    "    return df"
   ]
  },
  {
   "cell_type": "code",
   "execution_count": 4,
   "metadata": {
    "scrolled": false
   },
   "outputs": [],
   "source": [
    "api = twitter.api.Api(consumer_key = 'XXXXXXXXXXXXXXXXXXXXXXXXXXXXXXXXXXXXXXX',\n",
    "                 consumer_secret = 'XXXXXXXXXXXXXXXXXXXXXXXXXXXXXXXXXXXXXXX',\n",
    "                 access_token_key='XXXXXXXXXXXXXXXXXXXXXXXXXXXXXXXXXXXXXXX',\n",
    "                 access_token_secret='XXXXXXXXXXXXXXXXXXXXXXXXXXXXXXXXXXXXXXX')"
   ]
  },
  {
   "cell_type": "code",
   "execution_count": 5,
   "metadata": {},
   "outputs": [],
   "source": [
    "statuses = api.GetUserTimeline(screen_name='AOC', include_rts=False,count=200)"
   ]
  },
  {
   "cell_type": "code",
   "execution_count": 6,
   "metadata": {},
   "outputs": [],
   "source": [
    "screen_names = ['AOC','KamalaHarris','JoeBiden','SenSanders','ewarren','SpeakerPelosi','IlhanMN',\n",
    "                'RepMTG','LaurenBoebert','mattgaetz','tedcruz','GovRonDeSantis','CawthornforNC','DanCrenshawTX']"
   ]
  },
  {
   "cell_type": "code",
   "execution_count": 7,
   "metadata": {},
   "outputs": [
    {
     "name": "stdout",
     "output_type": "stream",
     "text": [
      "AOC\n",
      "KamalaHarris\n",
      "JoeBiden\n",
      "SenSanders\n",
      "ewarren\n",
      "SpeakerPelosi\n",
      "IlhanMN\n",
      "RepMTG\n",
      "LaurenBoebert\n",
      "mattgaetz\n",
      "tedcruz\n",
      "GovRonDeSantis\n",
      "CawthornforNC\n",
      "DanCrenshawTX\n"
     ]
    }
   ],
   "source": [
    "tweets = tweets_to_df(screen_names)"
   ]
  },
  {
   "cell_type": "code",
   "execution_count": 8,
   "metadata": {},
   "outputs": [],
   "source": [
    "tweets.to_csv(r'D:\\Lets Go\\Data Learning Fall 2021\\Twitter API\\politician tweets.csv')"
   ]
  },
  {
   "cell_type": "code",
   "execution_count": null,
   "metadata": {},
   "outputs": [],
   "source": []
  },
  {
   "cell_type": "code",
   "execution_count": null,
   "metadata": {},
   "outputs": [],
   "source": []
  }
 ],
 "metadata": {
  "kernelspec": {
   "display_name": "Python 3",
   "language": "python",
   "name": "python3"
  },
  "language_info": {
   "codemirror_mode": {
    "name": "ipython",
    "version": 3
   },
   "file_extension": ".py",
   "mimetype": "text/x-python",
   "name": "python",
   "nbconvert_exporter": "python",
   "pygments_lexer": "ipython3",
   "version": "3.7.6"
  }
 },
 "nbformat": 4,
 "nbformat_minor": 4
}
